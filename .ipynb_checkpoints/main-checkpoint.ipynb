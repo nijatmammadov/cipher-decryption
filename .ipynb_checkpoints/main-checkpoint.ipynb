{
 "cells": [
  {
   "cell_type": "code",
   "execution_count": 43,
   "id": "e5a812a8",
   "metadata": {},
   "outputs": [],
   "source": [
    "import string\n",
    "import random\n",
    "import numpy as np\n",
    "import pandas as pd\n",
    "import re"
   ]
  },
  {
   "cell_type": "code",
   "execution_count": 27,
   "id": "1a449660",
   "metadata": {},
   "outputs": [],
   "source": [
    "letters1 = list(string.ascii_lowercase)\n",
    "letters2 = list(string.ascii_lowercase)\n",
    "random.shuffle(letters2)\n",
    "\n",
    "mapping = {}\n",
    "for l1,l2 in zip(letters1,letters2):\n",
    "    mapping[l1]=l2"
   ]
  },
  {
   "cell_type": "code",
   "execution_count": 48,
   "id": "ab5fefe2",
   "metadata": {},
   "outputs": [],
   "source": [
    "M = np.ones((26,26)) #Markov transition matrix\n",
    "pi = np.ones(26) #initial state distribution\n",
    "\n",
    "def UpdateTransition(char1,char2):\n",
    "    i = ord(char1) - 97\n",
    "    j = ord(char2) - 97\n",
    "    \n",
    "    M[i,j] +=1\n",
    "def UpdateInitialStateDist(char1):\n",
    "    i = ord(char1) - 97\n",
    "    pi[i] +=1\n",
    "def GetWordProb(word):\n",
    "    i = ord(word[0]) - 97\n",
    "    logp = np.log(pi[i])\n",
    "    \n",
    "    for ch in word[1:]:\n",
    "        j = ord(ch) - 97\n",
    "        logp += M[i,j]\n",
    "        \n",
    "        i = j\n",
    "    return logp\n",
    "def GetSequenceOfProb(words):\n",
    "    \n",
    "    if type(words) == str:\n",
    "        words = words.split()\n",
    "    \n",
    "    logp = 0\n",
    "    for word in words:\n",
    "        logp += GetWordProb(word)\n",
    "        \n",
    "    return logp"
   ]
  },
  {
   "cell_type": "code",
   "execution_count": 41,
   "id": "7b73500c",
   "metadata": {},
   "outputs": [
    {
     "data": {
      "text/html": [
       "<div>\n",
       "<style scoped>\n",
       "    .dataframe tbody tr th:only-of-type {\n",
       "        vertical-align: middle;\n",
       "    }\n",
       "\n",
       "    .dataframe tbody tr th {\n",
       "        vertical-align: top;\n",
       "    }\n",
       "\n",
       "    .dataframe thead th {\n",
       "        text-align: right;\n",
       "    }\n",
       "</style>\n",
       "<table border=\"1\" class=\"dataframe\">\n",
       "  <thead>\n",
       "    <tr style=\"text-align: right;\">\n",
       "      <th></th>\n",
       "      <th>Text</th>\n",
       "    </tr>\n",
       "  </thead>\n",
       "  <tbody>\n",
       "    <tr>\n",
       "      <th>0</th>\n",
       "      <td>CHAPTER 1. Loomings.</td>\n",
       "    </tr>\n",
       "    <tr>\n",
       "      <th>1</th>\n",
       "      <td>Call me Ishmael. Some years ago—never mind how...</td>\n",
       "    </tr>\n",
       "    <tr>\n",
       "      <th>2</th>\n",
       "      <td>little or no money in my purse, and nothing pa...</td>\n",
       "    </tr>\n",
       "    <tr>\n",
       "      <th>3</th>\n",
       "      <td>on shore, I thought I would sail about a littl...</td>\n",
       "    </tr>\n",
       "    <tr>\n",
       "      <th>4</th>\n",
       "      <td>of the world. It is a way I have of driving of...</td>\n",
       "    </tr>\n",
       "    <tr>\n",
       "      <th>...</th>\n",
       "      <td>...</td>\n",
       "    </tr>\n",
       "    <tr>\n",
       "      <th>18386</th>\n",
       "      <td>unharming sharks, they glided by as if with pa...</td>\n",
       "    </tr>\n",
       "    <tr>\n",
       "      <th>18387</th>\n",
       "      <td>the savage sea-hawks sailed with sheathed beak...</td>\n",
       "    </tr>\n",
       "    <tr>\n",
       "      <th>18388</th>\n",
       "      <td>sail drew near, nearer, and picked me up at la...</td>\n",
       "    </tr>\n",
       "    <tr>\n",
       "      <th>18389</th>\n",
       "      <td>devious-cruising Rachel, that in her retracing...</td>\n",
       "    </tr>\n",
       "    <tr>\n",
       "      <th>18390</th>\n",
       "      <td>children, only found another orphan.</td>\n",
       "    </tr>\n",
       "  </tbody>\n",
       "</table>\n",
       "<p>18391 rows × 1 columns</p>\n",
       "</div>"
      ],
      "text/plain": [
       "                                                    Text\n",
       "0                                   CHAPTER 1. Loomings.\n",
       "1      Call me Ishmael. Some years ago—never mind how...\n",
       "2      little or no money in my purse, and nothing pa...\n",
       "3      on shore, I thought I would sail about a littl...\n",
       "4      of the world. It is a way I have of driving of...\n",
       "...                                                  ...\n",
       "18386  unharming sharks, they glided by as if with pa...\n",
       "18387  the savage sea-hawks sailed with sheathed beak...\n",
       "18388  sail drew near, nearer, and picked me up at la...\n",
       "18389  devious-cruising Rachel, that in her retracing...\n",
       "18390               children, only found another orphan.\n",
       "\n",
       "[18391 rows x 1 columns]"
      ]
     },
     "execution_count": 41,
     "metadata": {},
     "output_type": "execute_result"
    }
   ],
   "source": [
    "texts = pd.read_csv('moby_dick.txt',sep=r'\\n',encoding='utf-8',header=None,engine='python')\n",
    "texts.columns = ['Text']\n",
    "texts"
   ]
  },
  {
   "cell_type": "code",
   "execution_count": 50,
   "id": "fddb2e9f",
   "metadata": {},
   "outputs": [],
   "source": [
    "regex = re.compile('[^a-zA-Z]')\n",
    "\n",
    "for line in texts['Text']:\n",
    "    line = line.rstrip()\n",
    "    \n",
    "    if line:\n",
    "        line = regex.sub(' ',line)\n",
    "        \n",
    "        tokens = line.lower().split()\n",
    "        \n",
    "        for token in tokens:\n",
    "            ch0 = token[0]\n",
    "            UpdateInitialStateDist(ch0)\n",
    "            \n",
    "            for ch in token[1:]:\n",
    "                UpdateTransition(ch0,ch)\n",
    "                \n",
    "                ch0 = ch\n",
    "pi /= pi.sum()\n",
    "M /= M.sum(axis=1,keepdims=True)"
   ]
  },
  {
   "cell_type": "code",
   "execution_count": 65,
   "id": "df3b6ed4",
   "metadata": {},
   "outputs": [
    {
     "data": {
      "text/plain": [
       "'From the earliest stone tools to the latest advances in artificial intelligence, robotics, blockchains \\nand virtual reality, technology has continuously transformed our lives. Stay informed about the latest technological \\nbreakthroughs and the ethical and societal norms they challenge.\\n'"
      ]
     },
     "execution_count": 65,
     "metadata": {},
     "output_type": "execute_result"
    }
   ],
   "source": [
    "original_message = \"\"\"From the earliest stone tools to the latest advances in artificial intelligence, robotics, blockchains \n",
    "and virtual reality, technology has continuously transformed our lives. Stay informed about the latest technological \n",
    "breakthroughs and the ethical and societal norms they challenge.\n",
    "\"\"\"\n",
    "orginal_message"
   ]
  },
  {
   "cell_type": "code",
   "execution_count": 79,
   "id": "934ecb92",
   "metadata": {},
   "outputs": [],
   "source": [
    "def encode_msg(message):\n",
    "#     message = message.strip()\n",
    "    message = message.lower()\n",
    " \n",
    "    message = regex.sub(' ',message)\n",
    " \n",
    "    coded_msg = []\n",
    "    for ch in message:\n",
    "        coded_ch = ch\n",
    "        \n",
    "        if ch in mapping:\n",
    "            \n",
    "            coded_ch = mapping[ch]\n",
    "        coded_msg.append(coded_ch)\n",
    "  \n",
    "    return ''.join(coded_msg)    "
   ]
  },
  {
   "cell_type": "code",
   "execution_count": 80,
   "id": "276b3fd9",
   "metadata": {},
   "outputs": [
    {
     "data": {
      "text/plain": [
       "'qlvi pgy yrltjyhp hpvoy pvvth pv pgy trpyhp rzwrocyh jo rlpjqjcjrt jopyttjeyocy  lvkvpjch  ktvcucgrjoh  roz wjlpbrt lyrtjps  pycgovtves grh cvopjobvbhts plrohqvliyz vbl tjwyh  hprs joqvliyz rkvbp pgy trpyhp pycgovtvejcrt  klyrupglvbegh roz pgy ypgjcrt roz hvcjyprt ovlih pgys cgrttyoey  '"
      ]
     },
     "execution_count": 80,
     "metadata": {},
     "output_type": "execute_result"
    }
   ],
   "source": [
    "encode_msg(original_message)"
   ]
  },
  {
   "cell_type": "code",
   "execution_count": null,
   "id": "385c4e80",
   "metadata": {},
   "outputs": [],
   "source": []
  }
 ],
 "metadata": {
  "kernelspec": {
   "display_name": "Python 3 (ipykernel)",
   "language": "python",
   "name": "python3"
  },
  "language_info": {
   "codemirror_mode": {
    "name": "ipython",
    "version": 3
   },
   "file_extension": ".py",
   "mimetype": "text/x-python",
   "name": "python",
   "nbconvert_exporter": "python",
   "pygments_lexer": "ipython3",
   "version": "3.9.12"
  }
 },
 "nbformat": 4,
 "nbformat_minor": 5
}

{
 "cells": [
  {
   "cell_type": "code",
   "execution_count": 27,
   "id": "e5a812a8",
   "metadata": {},
   "outputs": [],
   "source": [
    "import string\n",
    "import random\n",
    "import numpy as np\n",
    "import pandas as pd\n",
    "import re\n",
    "import textwrap\n",
    "import matplotlib.pyplot as plt"
   ]
  },
  {
   "cell_type": "code",
   "execution_count": 28,
   "id": "1a449660",
   "metadata": {},
   "outputs": [],
   "source": [
    "letters1 = list(string.ascii_lowercase)\n",
    "letters2 = list(string.ascii_lowercase)\n",
    "random.shuffle(letters2)\n",
    "\n",
    "mapping = {}\n",
    "for l1,l2 in zip(letters1,letters2):\n",
    "    mapping[l1]=l2"
   ]
  },
  {
   "cell_type": "code",
   "execution_count": 29,
   "id": "ab5fefe2",
   "metadata": {},
   "outputs": [],
   "source": [
    "M = np.ones((26,26,26)) #Markov transition matrix\n",
    "pi = np.ones(26) #initial state distribution\n",
    "\n",
    "def UpdateTransition(char1,char2,char3):\n",
    "    i = ord(char1) - 97\n",
    "    j = ord(char2) - 97\n",
    "    k = ord(char3) - 97\n",
    "    \n",
    "    M[i,j,k] +=1\n",
    "def UpdateInitialStateDist(char1):\n",
    "    i = ord(char1) - 97\n",
    "    pi[i] +=1\n",
    "def GetWordProb(word):\n",
    "    i = ord(word[0]) - 97\n",
    "    logp = np.log(pi[i])\n",
    "    \n",
    "    \n",
    "    for idx in range(1,len(word)-1):\n",
    "        j = ord(word[idx]) - 97\n",
    "        k = ord(word[idx+1]) - 97\n",
    "        logp += M[i,j,k]\n",
    "        \n",
    "        i = j\n",
    "    return logp\n",
    "def GetSequenceOfProb(words):\n",
    "    \n",
    "    if type(words) == str:\n",
    "        words = words.split()\n",
    "    \n",
    "    logp = 0\n",
    "    for word in words:\n",
    "        logp += GetWordProb(word)\n",
    "        \n",
    "    return logp"
   ]
  },
  {
   "cell_type": "code",
   "execution_count": 30,
   "id": "7b73500c",
   "metadata": {},
   "outputs": [
    {
     "data": {
      "text/html": [
       "<div>\n",
       "<style scoped>\n",
       "    .dataframe tbody tr th:only-of-type {\n",
       "        vertical-align: middle;\n",
       "    }\n",
       "\n",
       "    .dataframe tbody tr th {\n",
       "        vertical-align: top;\n",
       "    }\n",
       "\n",
       "    .dataframe thead th {\n",
       "        text-align: right;\n",
       "    }\n",
       "</style>\n",
       "<table border=\"1\" class=\"dataframe\">\n",
       "  <thead>\n",
       "    <tr style=\"text-align: right;\">\n",
       "      <th></th>\n",
       "      <th>Text</th>\n",
       "    </tr>\n",
       "  </thead>\n",
       "  <tbody>\n",
       "    <tr>\n",
       "      <th>0</th>\n",
       "      <td>CHAPTER 1. Loomings.</td>\n",
       "    </tr>\n",
       "    <tr>\n",
       "      <th>1</th>\n",
       "      <td>Call me Ishmael. Some years ago—never mind how...</td>\n",
       "    </tr>\n",
       "    <tr>\n",
       "      <th>2</th>\n",
       "      <td>little or no money in my purse, and nothing pa...</td>\n",
       "    </tr>\n",
       "    <tr>\n",
       "      <th>3</th>\n",
       "      <td>on shore, I thought I would sail about a littl...</td>\n",
       "    </tr>\n",
       "    <tr>\n",
       "      <th>4</th>\n",
       "      <td>of the world. It is a way I have of driving of...</td>\n",
       "    </tr>\n",
       "    <tr>\n",
       "      <th>...</th>\n",
       "      <td>...</td>\n",
       "    </tr>\n",
       "    <tr>\n",
       "      <th>18386</th>\n",
       "      <td>unharming sharks, they glided by as if with pa...</td>\n",
       "    </tr>\n",
       "    <tr>\n",
       "      <th>18387</th>\n",
       "      <td>the savage sea-hawks sailed with sheathed beak...</td>\n",
       "    </tr>\n",
       "    <tr>\n",
       "      <th>18388</th>\n",
       "      <td>sail drew near, nearer, and picked me up at la...</td>\n",
       "    </tr>\n",
       "    <tr>\n",
       "      <th>18389</th>\n",
       "      <td>devious-cruising Rachel, that in her retracing...</td>\n",
       "    </tr>\n",
       "    <tr>\n",
       "      <th>18390</th>\n",
       "      <td>children, only found another orphan.</td>\n",
       "    </tr>\n",
       "  </tbody>\n",
       "</table>\n",
       "<p>18391 rows × 1 columns</p>\n",
       "</div>"
      ],
      "text/plain": [
       "                                                    Text\n",
       "0                                   CHAPTER 1. Loomings.\n",
       "1      Call me Ishmael. Some years ago—never mind how...\n",
       "2      little or no money in my purse, and nothing pa...\n",
       "3      on shore, I thought I would sail about a littl...\n",
       "4      of the world. It is a way I have of driving of...\n",
       "...                                                  ...\n",
       "18386  unharming sharks, they glided by as if with pa...\n",
       "18387  the savage sea-hawks sailed with sheathed beak...\n",
       "18388  sail drew near, nearer, and picked me up at la...\n",
       "18389  devious-cruising Rachel, that in her retracing...\n",
       "18390               children, only found another orphan.\n",
       "\n",
       "[18391 rows x 1 columns]"
      ]
     },
     "execution_count": 30,
     "metadata": {},
     "output_type": "execute_result"
    }
   ],
   "source": [
    "texts = pd.read_csv('moby_dick.txt',sep=r'\\n',encoding='utf-8',header=None,engine='python')\n",
    "texts.columns = ['Text']\n",
    "texts"
   ]
  },
  {
   "cell_type": "code",
   "execution_count": 31,
   "id": "fddb2e9f",
   "metadata": {},
   "outputs": [],
   "source": [
    "regex = re.compile('[^a-zA-Z]')\n",
    "\n",
    "for line in texts['Text']:\n",
    "    line = line.rstrip()\n",
    "    \n",
    "    if line:\n",
    "        line = regex.sub(' ',line)\n",
    "        \n",
    "        tokens = line.lower().split()\n",
    "        \n",
    "        for token in tokens:\n",
    "            ch0 = token[0]\n",
    "            UpdateInitialStateDist(ch0)\n",
    "            \n",
    "            for idx in range(1,len(token)-1):\n",
    "                UpdateTransition(ch0,token[idx],token[idx+1])\n",
    "                \n",
    "                ch0 = token[idx]\n",
    "pi /= pi.sum()\n",
    "M /= M.sum(axis=1,keepdims=True)"
   ]
  },
  {
   "cell_type": "code",
   "execution_count": 32,
   "id": "df3b6ed4",
   "metadata": {},
   "outputs": [
    {
     "data": {
      "text/plain": [
       "'He was proud of himself. He had learned some important things, \\nlike how to deal in crystal, and about the language without \\nwords…and about omens. One afternoon he had seen a man at the \\ntop of the hill, complaining that it was impossible to find a decent \\nplace to get something to drink after such a climb. The boy, \\naccustomed to recognizing omens, spoke to the merchant.\\n'"
      ]
     },
     "execution_count": 32,
     "metadata": {},
     "output_type": "execute_result"
    }
   ],
   "source": [
    "original_message = \"\"\"He was proud of himself. He had learned some important things, \n",
    "like how to deal in crystal, and about the language without \n",
    "words…and about omens. One afternoon he had seen a man at the \n",
    "top of the hill, complaining that it was impossible to find a decent \n",
    "place to get something to drink after such a climb. The boy, \n",
    "accustomed to recognizing omens, spoke to the merchant.\n",
    "\"\"\"\n",
    "original_message"
   ]
  },
  {
   "cell_type": "code",
   "execution_count": 33,
   "id": "934ecb92",
   "metadata": {},
   "outputs": [],
   "source": [
    "def encode_msg(message):\n",
    "#     message = message.strip()\n",
    "    message = message.lower()\n",
    " \n",
    "    message = regex.sub(' ',message)\n",
    " \n",
    "    coded_msg = []\n",
    "    for ch in message:\n",
    "        coded_ch = ch\n",
    "        \n",
    "        if ch in mapping:\n",
    "            \n",
    "            coded_ch = mapping[ch]\n",
    "        coded_msg.append(coded_ch)\n",
    "  \n",
    "    return ''.join(coded_msg)    "
   ]
  },
  {
   "cell_type": "code",
   "execution_count": 34,
   "id": "fe10a142",
   "metadata": {},
   "outputs": [],
   "source": [
    "def decode_msg(message,word_map):\n",
    "    decoded_msg = []\n",
    "    for ch in message:\n",
    "        encoded = ch\n",
    "        if ch in word_map:\n",
    "            encoded  = word_map[ch]\n",
    "        decoded_msg.append(encoded)\n",
    "    return \"\".join(decoded_msg)"
   ]
  },
  {
   "cell_type": "code",
   "execution_count": 35,
   "id": "276b3fd9",
   "metadata": {},
   "outputs": [
    {
     "data": {
      "text/plain": [
       "'na mew tkfjp fo nqgwazo  na nep zaekhap wfga qgtfkiehi inqhbw   zqva nfm if paez qh lkuwiez  ehp eyfji ina zehbjeba mqinfji  mfkpw ehp eyfji fgahw  fha eoiakhffh na nep waah e geh ei ina  ift fo ina nqzz  lfgtzeqhqhb inei qi mew qgtfwwqyza if oqhp e palahi  tzela if bai wfgainqhb if pkqhv eoiak wjln e lzqgy  ina yfu   elljwifgap if kalfbhqxqhb fgahw  wtfva if ina gaklnehi  '"
      ]
     },
     "execution_count": 35,
     "metadata": {},
     "output_type": "execute_result"
    }
   ],
   "source": [
    "encoded_msg = encode_msg(original_message)\n",
    "encoded_msg"
   ]
  },
  {
   "cell_type": "code",
   "execution_count": 36,
   "id": "c76081f1",
   "metadata": {},
   "outputs": [],
   "source": [
    "dna_pool = []\n",
    "for _ in range(25):\n",
    "    dna = list(string.ascii_lowercase)\n",
    "    random.shuffle(dna)\n",
    "    dna_pool.append(dna)"
   ]
  },
  {
   "cell_type": "code",
   "execution_count": 37,
   "id": "07be9fbf",
   "metadata": {},
   "outputs": [],
   "source": [
    "def evolve_offsprings(dna_pool, n_children):\n",
    "    offsprings = []\n",
    "    \n",
    "    for dna in dna_pool:\n",
    "        for _ in range(n_children):\n",
    "            dna_copy = dna.copy()\n",
    "            \n",
    "            first = np.random.randint(len(dna_copy))\n",
    "            second = np.random.randint(len(dna_copy))\n",
    "            \n",
    "            dna_copy[first],dna_copy[second] = dna_copy[second],dna_copy[first]\n",
    "            \n",
    "            offsprings.append(dna_copy)\n",
    "    return offsprings+dna_pool \n",
    "            "
   ]
  },
  {
   "cell_type": "code",
   "execution_count": 38,
   "id": "40d2ca27",
   "metadata": {},
   "outputs": [
    {
     "name": "stdout",
     "output_type": "stream",
     "text": [
      "iter: 0, score: -273.7716594446956, best score so far: -220.10652454777562\n",
      "iter: 100, score: -149.02092060666843, best score so far: -139.3480434026255\n",
      "iter: 200, score: -131.1160487182993, best score so far: -118.9170523221436\n",
      "iter: 300, score: -130.6395109856941, best score so far: -118.65731620274325\n",
      "iter: 400, score: -130.55795600290722, best score so far: -118.65731620274325\n",
      "iter: 500, score: -134.33267004226568, best score so far: -118.65731620274325\n",
      "iter: 600, score: -127.79516680351271, best score so far: -118.65731620274325\n",
      "iter: 700, score: -127.92956660217264, best score so far: -118.65731620274325\n",
      "iter: 800, score: -132.74068569047256, best score so far: -118.65731620274325\n",
      "iter: 900, score: -133.33107738069938, best score so far: -118.65731620274325\n",
      "iter: 1000, score: -133.52596383415775, best score so far: -118.65731620274325\n",
      "iter: 1100, score: -130.99013589142544, best score so far: -118.65731620274325\n",
      "iter: 1200, score: -128.06805695342882, best score so far: -118.65731620274325\n",
      "iter: 1300, score: -133.09042644856478, best score so far: -118.65731620274325\n",
      "iter: 1400, score: -144.19942679930588, best score so far: -118.65731620274325\n"
     ]
    }
   ],
   "source": [
    "iters = 1500\n",
    "scores = np.zeros(iters)\n",
    "best_dna = None\n",
    "best_map = None\n",
    "best_score = float('-inf')\n",
    "\n",
    "for i in range(iters):\n",
    "    \n",
    "    if i>0:\n",
    "        dna_pool = evolve_offsprings(dna_pool,3)\n",
    "    \n",
    "    dna2score = {}\n",
    "    for dna in dna_pool:\n",
    "        current_map = {}\n",
    "        for k,j in zip(letters1,dna):\n",
    "            current_map[k] = j\n",
    "        decoded_msg = decode_msg(encoded_msg,current_map)\n",
    "        score = GetSequenceOfProb(decoded_msg)\n",
    "        \n",
    "        dna2score[''.join(dna)] = score\n",
    "        if score>best_score:\n",
    "            best_score = score\n",
    "            best_map = current_map\n",
    "            best_dna = dna\n",
    "    scores[i] = np.mean(list(dna2score.values()))\n",
    "    \n",
    "    sorted_dna = sorted(dna2score.items(),key=lambda x:x[1],reverse=True)\n",
    "    \n",
    "    dna_pool = [list(k) for k,v in sorted_dna[:5]]\n",
    "    \n",
    "    \n",
    "    if i%100 == 0:\n",
    "        print(f'iter: {i}, score: {scores[i]}, best score so far: {best_score}')\n",
    "    "
   ]
  },
  {
   "cell_type": "code",
   "execution_count": 39,
   "id": "385c4e80",
   "metadata": {},
   "outputs": [
    {
     "name": "stdout",
     "output_type": "stream",
     "text": [
      "log likelihood of decoded msg: -118.65731620274325\n",
      "log likelihood of true msg: -118.65731620274325\n",
      "true: q predicted: v\n",
      "true: v predicted: x\n",
      "true: x predicted: q\n"
     ]
    }
   ],
   "source": [
    "decoded_msg = decode_msg(encoded_msg,best_map)\n",
    "print(\"log likelihood of decoded msg:\", GetSequenceOfProb(decoded_msg))\n",
    "print(\"log likelihood of true msg:\",GetSequenceOfProb(regex.sub(' ',original_message.lower())))\n",
    "\n",
    "for true,value in mapping.items():\n",
    "    \n",
    "    predicted = best_map[value]\n",
    "    \n",
    "    if true != predicted:\n",
    "        print(\"true:\",true,\"predicted:\",predicted)"
   ]
  },
  {
   "cell_type": "code",
   "execution_count": 40,
   "id": "094a31f6",
   "metadata": {},
   "outputs": [
    {
     "name": "stdout",
     "output_type": "stream",
     "text": [
      "Decoded msg:\n",
      " he was proud of himself  he had learned some important things   like\n",
      "how to deal in crystal  and about the language without  words and\n",
      "about omens  one afternoon he had seen a man at the  top of the hill\n",
      "complaining that it was impossible to find a decent  place to get\n",
      "something to drink after such a climb  the boy   accustomed to\n",
      "recognizing omens  spoke to the merchant\n",
      "\n",
      "\n",
      "Original msg:\n",
      " He was proud of himself. He had learned some important things,  like\n",
      "how to deal in crystal, and about the language without  words…and\n",
      "about omens. One afternoon he had seen a man at the  top of the hill,\n",
      "complaining that it was impossible to find a decent  place to get\n",
      "something to drink after such a climb. The boy,  accustomed to\n",
      "recognizing omens, spoke to the merchant.\n"
     ]
    }
   ],
   "source": [
    "print(\"Decoded msg:\\n\",textwrap.fill(decoded_msg))\n",
    "print()\n",
    "print()\n",
    "print(\"Original msg:\\n\",textwrap.fill(original_message))"
   ]
  },
  {
   "cell_type": "code",
   "execution_count": 41,
   "id": "2eac5c64",
   "metadata": {},
   "outputs": [
    {
     "data": {
      "image/png": "[encoded data removed]",
      "text/plain": [
       "<Figure size 432x288 with 1 Axes>"
      ]
     },
     "metadata": {
      "needs_background": "light"
     },
     "output_type": "display_data"
    }
   ],
   "source": [
    "plt.plot(scores)\n",
    "plt.show()"
   ]
  },
  {
   "cell_type": "code",
   "execution_count": null,
   "id": "4844dd93",
   "metadata": {},
   "outputs": [],
   "source": []
  }
 ],
 "metadata": {
  "kernelspec": {
   "display_name": "Python 3 (ipykernel)",
   "language": "python",
   "name": "python3"
  },
  "language_info": {
   "codemirror_mode": {
    "name": "ipython",
    "version": 3
   },
   "file_extension": ".py",
   "mimetype": "text/x-python",
   "name": "python",
   "nbconvert_exporter": "python",
   "pygments_lexer": "ipython3",
   "version": "3.9.12"
  }
 },
 "nbformat": 4,
 "nbformat_minor": 5
}
